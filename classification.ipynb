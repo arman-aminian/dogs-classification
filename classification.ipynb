{
  "nbformat": 4,
  "nbformat_minor": 0,
  "metadata": {
    "colab": {
      "name": "HW3[ArmanAminian][96243009].ipynb",
      "provenance": [],
      "collapsed_sections": [
        "OPztZsSOft0t",
        "fLEqNNylu0Dc",
        "sPGItuUvuqaY",
        "0YbC35VavY5u",
        "krYx5gELwRwW"
      ],
      "toc_visible": true,
      "authorship_tag": "ABX9TyNqMK1D1U9Ncr3cvlbaxnu5",
      "include_colab_link": true
    },
    "kernelspec": {
      "name": "python3",
      "display_name": "Python 3"
    },
    "accelerator": "GPU"
  },
  "cells": [
    {
      "cell_type": "markdown",
      "metadata": {
        "id": "view-in-github",
        "colab_type": "text"
      },
      "source": [
        "<a href=\"https://colab.research.google.com/github/arman-aminian/dogs-classification/blob/master/classification.ipynb\" target=\"_parent\"><img src=\"https://colab.research.google.com/assets/colab-badge.svg\" alt=\"Open In Colab\"/></a>"
      ]
    },
    {
      "cell_type": "markdown",
      "metadata": {
        "id": "innBdfJyfWAW"
      },
      "source": [
        "# Downloading dataset in Google Drive and unzip it!"
      ]
    },
    {
      "cell_type": "code",
      "metadata": {
        "colab": {
          "base_uri": "https://localhost:8080/"
        },
        "id": "2eFw2eV4Hmi6",
        "outputId": "fdd278f7-4494-4fbf-e80a-318e5b5e3add"
      },
      "source": [
        "# from google.colab import drive\n",
        "# drive.mount('/content/drive/')"
      ],
      "execution_count": null,
      "outputs": [
        {
          "output_type": "stream",
          "text": [
            "Mounted at /content/drive/\n"
          ],
          "name": "stdout"
        }
      ]
    },
    {
      "cell_type": "code",
      "metadata": {
        "colab": {
          "base_uri": "https://localhost:8080/"
        },
        "id": "7drj2TIYIG56",
        "outputId": "360bdc49-c87d-4a7b-a0d8-a7647c5198f0"
      },
      "source": [
        "# cd drive"
      ],
      "execution_count": null,
      "outputs": [
        {
          "output_type": "stream",
          "text": [
            "/content/drive\n"
          ],
          "name": "stdout"
        }
      ]
    },
    {
      "cell_type": "code",
      "metadata": {
        "colab": {
          "base_uri": "https://localhost:8080/"
        },
        "id": "qRlJV6UlKZft",
        "outputId": "0a8a46f2-d11c-4348-97e8-5300ab08fa2a"
      },
      "source": [
        "# cd MyDrive/"
      ],
      "execution_count": null,
      "outputs": [
        {
          "output_type": "stream",
          "text": [
            "/content/drive/MyDrive\n"
          ],
          "name": "stdout"
        }
      ]
    },
    {
      "cell_type": "code",
      "metadata": {
        "id": "YjxFp48EH_yw"
      },
      "source": [
        "# !mkdir project3"
      ],
      "execution_count": null,
      "outputs": []
    },
    {
      "cell_type": "code",
      "metadata": {
        "colab": {
          "base_uri": "https://localhost:8080/"
        },
        "id": "W9-Y1n9hKkUJ",
        "outputId": "b54efd20-e5eb-4ebd-efee-8b9f7e11c1ab"
      },
      "source": [
        "# cd project3/"
      ],
      "execution_count": null,
      "outputs": [
        {
          "output_type": "stream",
          "text": [
            "/content/drive/My Drive/project3\n"
          ],
          "name": "stdout"
        }
      ]
    },
    {
      "cell_type": "code",
      "metadata": {
        "colab": {
          "base_uri": "https://localhost:8080/"
        },
        "id": "Qi5j2ZCKINvy",
        "outputId": "16168f39-c52c-44dc-c653-71bf8705d112"
      },
      "source": [
        "# !wget http://vision.stanford.edu/aditya86/ImageNetDogs/images.tar"
      ],
      "execution_count": null,
      "outputs": [
        {
          "output_type": "stream",
          "text": [
            "--2020-12-04 00:32:51--  http://vision.stanford.edu/aditya86/ImageNetDogs/images.tar\n",
            "Resolving vision.stanford.edu (vision.stanford.edu)... 171.64.68.10\n",
            "Connecting to vision.stanford.edu (vision.stanford.edu)|171.64.68.10|:80... connected.\n",
            "HTTP request sent, awaiting response... 200 OK\n",
            "Length: 793579520 (757M) [application/x-tar]\n",
            "Saving to: ‘images.tar’\n",
            "\n",
            "images.tar          100%[===================>] 756.82M  65.0MB/s    in 13s     \n",
            "\n",
            "2020-12-04 00:33:05 (57.4 MB/s) - ‘images.tar’ saved [793579520/793579520]\n",
            "\n"
          ],
          "name": "stdout"
        }
      ]
    },
    {
      "cell_type": "code",
      "metadata": {
        "colab": {
          "base_uri": "https://localhost:8080/"
        },
        "id": "K21gV2SuKBOw",
        "outputId": "e0a92f3a-d263-4e2e-f59a-acf2866b1983"
      },
      "source": [
        "# ls"
      ],
      "execution_count": null,
      "outputs": [
        {
          "output_type": "stream",
          "text": [
            "images.tar\n"
          ],
          "name": "stdout"
        }
      ]
    },
    {
      "cell_type": "code",
      "metadata": {
        "id": "oIdPLh1jLA2l"
      },
      "source": [
        "# !tar -xvf  'images.tar'"
      ],
      "execution_count": null,
      "outputs": []
    },
    {
      "cell_type": "markdown",
      "metadata": {
        "id": "OPztZsSOft0t"
      },
      "source": [
        "# Importing libraries"
      ]
    },
    {
      "cell_type": "code",
      "metadata": {
        "id": "H8hAQD4u-S5_"
      },
      "source": [
        "import pandas as pd\n",
        "import tensorflow as tf\n",
        "from keras.preprocessing.image import ImageDataGenerator\n",
        "\n",
        "import matplotlib.pyplot as plt\n",
        "\n",
        "from tensorflow import keras\n",
        "import math\n",
        "\n",
        "from keras.models import Sequential\n",
        "from keras.layers import Dense, Conv2D, MaxPool2D , Flatten\n",
        "from keras import layers\n",
        "from tensorflow.python.keras.engine import training\n",
        "from tensorflow.python.keras import backend\n",
        "from keras.optimizers import Adam\n",
        "from keras.callbacks import ModelCheckpoint, EarlyStopping"
      ],
      "execution_count": null,
      "outputs": []
    },
    {
      "cell_type": "markdown",
      "metadata": {
        "id": "fLEqNNylu0Dc"
      },
      "source": [
        "# Data loading and preprocess"
      ]
    },
    {
      "cell_type": "code",
      "metadata": {
        "colab": {
          "base_uri": "https://localhost:8080/"
        },
        "id": "2sjQUQyLirLL",
        "outputId": "a91f6221-1c22-481d-bb67-94d8552f68b5"
      },
      "source": [
        "from google.colab import drive\n",
        "drive.mount('/content/drive/')"
      ],
      "execution_count": null,
      "outputs": [
        {
          "output_type": "stream",
          "text": [
            "Mounted at /content/drive/\n"
          ],
          "name": "stdout"
        }
      ]
    },
    {
      "cell_type": "code",
      "metadata": {
        "colab": {
          "base_uri": "https://localhost:8080/",
          "height": 35
        },
        "id": "6jx4gDsntmxU",
        "outputId": "8421a44b-1269-493d-886f-cb8f4455ad24"
      },
      "source": [
        "pwd"
      ],
      "execution_count": null,
      "outputs": [
        {
          "output_type": "execute_result",
          "data": {
            "application/vnd.google.colaboratory.intrinsic+json": {
              "type": "string"
            },
            "text/plain": [
              "'/content'"
            ]
          },
          "metadata": {
            "tags": []
          },
          "execution_count": 29
        }
      ]
    },
    {
      "cell_type": "code",
      "metadata": {
        "colab": {
          "base_uri": "https://localhost:8080/"
        },
        "id": "tr8Kfl9dtukv",
        "outputId": "033888f0-0643-416d-c2e1-d799c4a2e075"
      },
      "source": [
        "cd ./drive/MyDrive/project3"
      ],
      "execution_count": null,
      "outputs": [
        {
          "output_type": "stream",
          "text": [
            "/content/drive/MyDrive/project3\n"
          ],
          "name": "stdout"
        }
      ]
    },
    {
      "cell_type": "code",
      "metadata": {
        "colab": {
          "base_uri": "https://localhost:8080/"
        },
        "id": "GVp4Ugwwxw8j",
        "outputId": "8dbb7bd5-5007-4722-bd85-6accea9b18e5"
      },
      "source": [
        "ls"
      ],
      "execution_count": null,
      "outputs": [
        {
          "output_type": "stream",
          "text": [
            "\u001b[0m\u001b[01;34mImages\u001b[0m/  images.tar\n"
          ],
          "name": "stdout"
        }
      ]
    },
    {
      "cell_type": "code",
      "metadata": {
        "id": "jBCE5bGlt3dk"
      },
      "source": [
        "train_datagen = ImageDataGenerator(rescale=1./255,\n",
        "                                   shear_range=0.2,\n",
        "                                   zoom_range=0.2,\n",
        "                                   horizontal_flip=True,\n",
        "                                   validation_split=0.2)\n",
        "\n",
        "test_datagen = ImageDataGenerator(rescale=1./255,\n",
        "                                  validation_split=0.2)"
      ],
      "execution_count": null,
      "outputs": []
    },
    {
      "cell_type": "code",
      "metadata": {
        "id": "7HDQ4Hh4x4YI"
      },
      "source": [
        "DATA_SET_DIR = \"./Images\"\n",
        "IMAGE_SIZE = 224\n",
        "BATCH_SIZE = 128\n",
        "TRAIN_SIZE = int(20580*0.8)\n",
        "TEST_SIZE = int(20580*0.2)"
      ],
      "execution_count": null,
      "outputs": []
    },
    {
      "cell_type": "code",
      "metadata": {
        "colab": {
          "base_uri": "https://localhost:8080/"
        },
        "id": "Kkd4Wi8Twh50",
        "outputId": "932141af-5084-481d-c62d-ae008fb47645"
      },
      "source": [
        "train_generator = train_datagen.flow_from_directory(DATA_SET_DIR,\n",
        "                                                    target_size=(IMAGE_SIZE, IMAGE_SIZE),\n",
        "                                                    batch_size=BATCH_SIZE,\n",
        "                                                    class_mode='categorical',\n",
        "                                                    subset='training')\n",
        "\n",
        "validation_generator = test_datagen.flow_from_directory(DATA_SET_DIR,\n",
        "                                                        target_size=(IMAGE_SIZE, IMAGE_SIZE),\n",
        "                                                        batch_size=BATCH_SIZE,\n",
        "                                                        class_mode='categorical',\n",
        "                                                        subset='validation')"
      ],
      "execution_count": null,
      "outputs": [
        {
          "output_type": "stream",
          "text": [
            "Found 16508 images belonging to 120 classes.\n",
            "Found 4072 images belonging to 120 classes.\n"
          ],
          "name": "stdout"
        }
      ]
    },
    {
      "cell_type": "code",
      "metadata": {
        "colab": {
          "base_uri": "https://localhost:8080/",
          "height": 150
        },
        "id": "2TVGTJfn8xp3",
        "outputId": "d5f95434-c763-4120-f911-a3f5e98b1bdd"
      },
      "source": [
        "def show_images(images, row):\n",
        "    n: int = len(images)\n",
        "    f = plt.figure()\n",
        "    for i in range(n):\n",
        "        f.add_subplot(row, n, i + 1)\n",
        "        plt.imshow(images[i])\n",
        "\n",
        "    plt.show(block=True)\n",
        "\n",
        "show_images(train_generator[16][0][:3], 1)"
      ],
      "execution_count": null,
      "outputs": [
        {
          "output_type": "display_data",
          "data": {
            "image/png": "[encoded data removed]",
            "text/plain": [
              "<Figure size 432x288 with 3 Axes>"
            ]
          },
          "metadata": {
            "tags": [],
            "needs_background": "light"
          }
        }
      ]
    },
    {
      "cell_type": "markdown",
      "metadata": {
        "id": "sPGItuUvuqaY"
      },
      "source": [
        "# Custom CNN Network : 13% Accuracy"
      ]
    },
    {
      "cell_type": "code",
      "metadata": {
        "id": "vy1w0WFV_Dbh"
      },
      "source": [
        "KERNEL_SIZE = 3"
      ],
      "execution_count": null,
      "outputs": []
    },
    {
      "cell_type": "code",
      "metadata": {
        "id": "TIl2--zt_GCO"
      },
      "source": [
        "cnn = tf.keras.models.Sequential()\n",
        "cnn.add(tf.keras.layers.Conv2D(filters=32, kernel_size=KERNEL_SIZE, activation='relu', input_shape=[IMAGE_SIZE,IMAGE_SIZE,3]))\n",
        "cnn.add(tf.keras.layers.MaxPool2D(pool_size=2, strides=2))\n",
        "\n",
        "cnn.add(tf.keras.layers.Conv2D(filters=32, kernel_size=KERNEL_SIZE, activation='relu'))\n",
        "cnn.add(tf.keras.layers.MaxPool2D(pool_size=2, strides=2))\n",
        "\n",
        "cnn.add(tf.keras.layers.Flatten())\n",
        "\n",
        "# cnn.add(tf.keras.layers.Dense(units=512, activation='relu'))\n",
        "# cnn.add(tf.keras.layers.Dropout(0.3))\n",
        "cnn.add(tf.keras.layers.Dense(units=256, activation='relu'))\n",
        "cnn.add(tf.keras.layers.Dropout(0.3))\n",
        "cnn.add(tf.keras.layers.BatchNormalization())\n",
        "cnn.add(tf.keras.layers.Dense(units=120, activation='softmax'))\n",
        "\n",
        "cnn.compile(loss='categorical_crossentropy', optimizer='adam')\n",
        "\n"
      ],
      "execution_count": null,
      "outputs": []
    },
    {
      "cell_type": "code",
      "metadata": {
        "colab": {
          "base_uri": "https://localhost:8080/"
        },
        "id": "VNd65ozzoYEs",
        "outputId": "ea9961c7-accf-46ed-8a15-78aff982a13f"
      },
      "source": [
        "cnn.summary()"
      ],
      "execution_count": null,
      "outputs": [
        {
          "output_type": "stream",
          "text": [
            "Model: \"sequential_12\"\n",
            "_________________________________________________________________\n",
            "Layer (type)                 Output Shape              Param #   \n",
            "=================================================================\n",
            "conv2d_24 (Conv2D)           (None, 222, 222, 32)      896       \n",
            "_________________________________________________________________\n",
            "max_pooling2d_24 (MaxPooling (None, 111, 111, 32)      0         \n",
            "_________________________________________________________________\n",
            "conv2d_25 (Conv2D)           (None, 109, 109, 32)      9248      \n",
            "_________________________________________________________________\n",
            "max_pooling2d_25 (MaxPooling (None, 54, 54, 32)        0         \n",
            "_________________________________________________________________\n",
            "flatten_12 (Flatten)         (None, 93312)             0         \n",
            "_________________________________________________________________\n",
            "dense_26 (Dense)             (None, 256)               23888128  \n",
            "_________________________________________________________________\n",
            "dropout_14 (Dropout)         (None, 256)               0         \n",
            "_________________________________________________________________\n",
            "batch_normalization_5 (Batch (None, 256)               1024      \n",
            "_________________________________________________________________\n",
            "dense_27 (Dense)             (None, 120)               30840     \n",
            "=================================================================\n",
            "Total params: 23,930,136\n",
            "Trainable params: 23,929,624\n",
            "Non-trainable params: 512\n",
            "_________________________________________________________________\n"
          ],
          "name": "stdout"
        }
      ]
    },
    {
      "cell_type": "code",
      "metadata": {
        "id": "amcOH5FII4lM"
      },
      "source": [
        "total_epoch = 10\n",
        "lr_init = 0.0001"
      ],
      "execution_count": null,
      "outputs": []
    },
    {
      "cell_type": "code",
      "metadata": {
        "colab": {
          "base_uri": "https://localhost:8080/"
        },
        "id": "tU8FKiXdRdyB",
        "outputId": "9b38d408-13ed-44e8-8496-647213082466"
      },
      "source": [
        "cnn.fit(\n",
        "    x=train_generator,\n",
        "    validation_data=validation_generator,\n",
        "    epochs=total_epoch\n",
        ")"
      ],
      "execution_count": null,
      "outputs": [
        {
          "output_type": "stream",
          "text": [
            "Epoch 1/10\n",
            "129/129 [==============================] - 2926s 23s/step - loss: 4.8772 - val_loss: 4.7446\n",
            "Epoch 2/10\n",
            "129/129 [==============================] - 241s 2s/step - loss: 4.5998 - val_loss: 4.5103\n",
            "Epoch 3/10\n",
            "129/129 [==============================] - 237s 2s/step - loss: 4.4228 - val_loss: 5.7723\n",
            "Epoch 4/10\n",
            "129/129 [==============================] - 230s 2s/step - loss: 4.3292 - val_loss: 4.2806\n",
            "Epoch 5/10\n",
            "129/129 [==============================] - 229s 2s/step - loss: 4.2110 - val_loss: 4.2649\n",
            "Epoch 6/10\n",
            "129/129 [==============================] - 227s 2s/step - loss: 4.1115 - val_loss: 4.2714\n",
            "Epoch 7/10\n",
            "129/129 [==============================] - 226s 2s/step - loss: 4.0435 - val_loss: 4.1033\n",
            "Epoch 8/10\n",
            "129/129 [==============================] - 226s 2s/step - loss: 3.9590 - val_loss: 4.0836\n",
            "Epoch 9/10\n",
            "129/129 [==============================] - 229s 2s/step - loss: 3.8795 - val_loss: 4.0263\n",
            "Epoch 10/10\n",
            "129/129 [==============================] - 236s 2s/step - loss: 3.7988 - val_loss: 4.0688\n"
          ],
          "name": "stdout"
        },
        {
          "output_type": "execute_result",
          "data": {
            "text/plain": [
              "<tensorflow.python.keras.callbacks.History at 0x7f20454000f0>"
            ]
          },
          "metadata": {
            "tags": []
          },
          "execution_count": 65
        }
      ]
    },
    {
      "cell_type": "code",
      "metadata": {
        "id": "_E3aXkjzLfMn"
      },
      "source": [
        "cnn.compile(loss='categorical_crossentropy', optimizer='adam', metrics=['accuracy'])"
      ],
      "execution_count": null,
      "outputs": []
    },
    {
      "cell_type": "code",
      "metadata": {
        "colab": {
          "base_uri": "https://localhost:8080/"
        },
        "id": "uOrDuSIiK-1i",
        "outputId": "6d8ad616-61cf-449a-990a-fe592f6f08fe"
      },
      "source": [
        "cnn.fit(\n",
        "    x=train_generator,\n",
        "    validation_data=validation_generator,\n",
        "    epochs=10\n",
        ")"
      ],
      "execution_count": null,
      "outputs": [
        {
          "output_type": "stream",
          "text": [
            "Epoch 1/10\n",
            "129/129 [==============================] - 235s 2s/step - loss: 3.7064 - accuracy: 0.1460 - val_loss: 3.8934 - val_accuracy: 0.1142\n",
            "Epoch 2/10\n",
            "129/129 [==============================] - 227s 2s/step - loss: 3.6421 - accuracy: 0.1559 - val_loss: 3.8893 - val_accuracy: 0.1137\n",
            "Epoch 3/10\n",
            "129/129 [==============================] - 233s 2s/step - loss: 3.5685 - accuracy: 0.1640 - val_loss: 3.8955 - val_accuracy: 0.1252\n",
            "Epoch 4/10\n",
            "129/129 [==============================] - 237s 2s/step - loss: 3.5124 - accuracy: 0.1768 - val_loss: 3.8701 - val_accuracy: 0.1245\n",
            "Epoch 5/10\n",
            "129/129 [==============================] - 241s 2s/step - loss: 3.4457 - accuracy: 0.1851 - val_loss: 3.8706 - val_accuracy: 0.1284\n",
            "Epoch 6/10\n",
            "129/129 [==============================] - 239s 2s/step - loss: 3.3820 - accuracy: 0.1958 - val_loss: 3.8747 - val_accuracy: 0.1225\n",
            "Epoch 7/10\n",
            "129/129 [==============================] - 236s 2s/step - loss: 3.3283 - accuracy: 0.2071 - val_loss: 3.8913 - val_accuracy: 0.1191\n",
            "Epoch 8/10\n",
            "129/129 [==============================] - 239s 2s/step - loss: 3.2871 - accuracy: 0.2122 - val_loss: 3.8608 - val_accuracy: 0.1314\n",
            "Epoch 9/10\n",
            "129/129 [==============================] - 239s 2s/step - loss: 3.2185 - accuracy: 0.2230 - val_loss: 4.0493 - val_accuracy: 0.1127\n",
            "Epoch 10/10\n",
            "129/129 [==============================] - 242s 2s/step - loss: 3.1655 - accuracy: 0.2322 - val_loss: 3.8774 - val_accuracy: 0.1311\n"
          ],
          "name": "stdout"
        },
        {
          "output_type": "execute_result",
          "data": {
            "text/plain": [
              "<tensorflow.python.keras.callbacks.History at 0x7f1eb2929e48>"
            ]
          },
          "metadata": {
            "tags": []
          },
          "execution_count": 71
        }
      ]
    },
    {
      "cell_type": "code",
      "metadata": {
        "colab": {
          "base_uri": "https://localhost:8080/",
          "height": 302
        },
        "id": "huzO3BFJJTov",
        "outputId": "bfacf99d-399e-4e50-ba52-e59dd78f8c3b"
      },
      "source": [
        "def scheduler(epoch):\n",
        "    epoch += 1\n",
        "   \n",
        "    if epoch == 1:\n",
        "        return lr_init\n",
        "    \n",
        "    elif epoch >= 2 and epoch <= 20:\n",
        "        return (0.5*epoch**3)*math.exp(-0.5*epoch)*lr_init\n",
        "    \n",
        "    else:\n",
        "        return scheduler_2(20-1)\n",
        "    \n",
        "\n",
        "stage = [i for i in range(0,30)]\n",
        "learning_rate = [scheduler(x) for x in stage]\n",
        "plt.plot(stage, learning_rate)\n",
        "print(learning_rate)"
      ],
      "execution_count": null,
      "outputs": [
        {
          "output_type": "stream",
          "text": [
            "[0.0001, 0.00014715177646857695, 0.00030122571620038027, 0.00043307290635716066, 0.0005130312413993676, 0.0005377003383729307, 0.0005178851256927623, 0.00046888035555159497, 0.00040492292381893205, 0.00033689734995427336, 0.00027197463922978366, 0.00021416418806397342, 0.00016515279534858634, 0.00012511020567407963, 9.333298746244693e-05, 6.870274619443443e-05, 4.998200484746474e-05, 3.5986298871675764e-05, 2.567043505998692e-05, 1.815997190499394e-05, 1.815997190499394e-05, 1.815997190499394e-05, 1.815997190499394e-05, 1.815997190499394e-05, 1.815997190499394e-05, 1.815997190499394e-05, 1.815997190499394e-05, 1.815997190499394e-05, 1.815997190499394e-05, 1.815997190499394e-05]\n"
          ],
          "name": "stdout"
        },
        {
          "output_type": "display_data",
          "data": {
            "image/png": "[encoded data removed]",
            "text/plain": [
              "<Figure size 432x288 with 1 Axes>"
            ]
          },
          "metadata": {
            "tags": [],
            "needs_background": "light"
          }
        }
      ]
    },
    {
      "cell_type": "markdown",
      "metadata": {
        "id": "0YbC35VavY5u"
      },
      "source": [
        "# Custom CNN Network2 : too bad Accuracy :)"
      ]
    },
    {
      "cell_type": "code",
      "metadata": {
        "id": "h0CPDl7L_J1M"
      },
      "source": [
        "BATCH_SIZE_VGG = 32\n",
        "EPOCHS_VGG = 100"
      ],
      "execution_count": null,
      "outputs": []
    },
    {
      "cell_type": "code",
      "metadata": {
        "colab": {
          "base_uri": "https://localhost:8080/"
        },
        "id": "zxmaUx8a_I5I",
        "outputId": "12552a09-1dc8-4e23-e7b5-37d0171c183f"
      },
      "source": [
        "train_generator_vgg = train_datagen.flow_from_directory(DATA_SET_DIR,\n",
        "                                                    target_size=(IMAGE_SIZE, IMAGE_SIZE),\n",
        "                                                    batch_size=BATCH_SIZE_VGG,\n",
        "                                                    class_mode='categorical',\n",
        "                                                    subset='training')\n",
        "\n",
        "validation_generator_vgg = test_datagen.flow_from_directory(DATA_SET_DIR,\n",
        "                                                        target_size=(IMAGE_SIZE, IMAGE_SIZE),\n",
        "                                                        batch_size=BATCH_SIZE_VGG,\n",
        "                                                        class_mode='categorical',\n",
        "                                                        subset='validation')"
      ],
      "execution_count": null,
      "outputs": [
        {
          "output_type": "stream",
          "text": [
            "Found 16508 images belonging to 120 classes.\n",
            "Found 4072 images belonging to 120 classes.\n"
          ],
          "name": "stdout"
        }
      ]
    },
    {
      "cell_type": "code",
      "metadata": {
        "id": "SGpeUXMKvbJ8"
      },
      "source": [
        "cnn_vgg16 = Sequential()\n",
        "cnn_vgg16.add(Conv2D(input_shape=(224,224,3),filters=64,kernel_size=(3,3),padding=\"same\", activation=\"relu\"))\n",
        "cnn_vgg16.add(Conv2D(filters=64,kernel_size=(3,3),padding=\"same\", activation=\"relu\"))\n",
        "cnn_vgg16.add(MaxPool2D(pool_size=(2,2),strides=(2,2)))\n",
        "cnn_vgg16.add(Conv2D(filters=128, kernel_size=(3,3), padding=\"same\", activation=\"relu\"))\n",
        "cnn_vgg16.add(Conv2D(filters=128, kernel_size=(3,3), padding=\"same\", activation=\"relu\"))\n",
        "cnn_vgg16.add(MaxPool2D(pool_size=(2,2),strides=(2,2)))\n",
        "cnn_vgg16.add(Conv2D(filters=256, kernel_size=(3,3), padding=\"same\", activation=\"relu\"))\n",
        "cnn_vgg16.add(Conv2D(filters=256, kernel_size=(3,3), padding=\"same\", activation=\"relu\"))\n",
        "cnn_vgg16.add(Conv2D(filters=256, kernel_size=(3,3), padding=\"same\", activation=\"relu\"))\n",
        "cnn_vgg16.add(MaxPool2D(pool_size=(2,2),strides=(2,2)))\n",
        "cnn_vgg16.add(Conv2D(filters=512, kernel_size=(3,3), padding=\"same\", activation=\"relu\"))\n",
        "cnn_vgg16.add(Conv2D(filters=512, kernel_size=(3,3), padding=\"same\", activation=\"relu\"))\n",
        "cnn_vgg16.add(Conv2D(filters=512, kernel_size=(3,3), padding=\"same\", activation=\"relu\"))\n",
        "cnn_vgg16.add(MaxPool2D(pool_size=(2,2),strides=(2,2)))\n",
        "cnn_vgg16.add(Conv2D(filters=512, kernel_size=(3,3), padding=\"same\", activation=\"relu\"))\n",
        "cnn_vgg16.add(Conv2D(filters=512, kernel_size=(3,3), padding=\"same\", activation=\"relu\"))\n",
        "cnn_vgg16.add(Conv2D(filters=512, kernel_size=(3,3), padding=\"same\", activation=\"relu\"))\n",
        "cnn_vgg16.add(MaxPool2D(pool_size=(2,2),strides=(2,2)))\n",
        "\n",
        "cnn_vgg16.add(Flatten())\n",
        "cnn_vgg16.add(Dense(units=4096,activation=\"relu\"))\n",
        "cnn_vgg16.add(Dense(units=4096,activation=\"relu\"))\n",
        "cnn_vgg16.add(Dense(units=120, activation=\"softmax\"))"
      ],
      "execution_count": null,
      "outputs": []
    },
    {
      "cell_type": "code",
      "metadata": {
        "colab": {
          "base_uri": "https://localhost:8080/"
        },
        "id": "QA5_KcN74_D6",
        "outputId": "6f6d2c13-1625-4403-abfa-a0a30b52ae21"
      },
      "source": [
        "cnn_vgg16.summary()"
      ],
      "execution_count": null,
      "outputs": [
        {
          "output_type": "stream",
          "text": [
            "Model: \"sequential_9\"\n",
            "_________________________________________________________________\n",
            "Layer (type)                 Output Shape              Param #   \n",
            "=================================================================\n",
            "conv2d_65 (Conv2D)           (None, 224, 224, 64)      1792      \n",
            "_________________________________________________________________\n",
            "conv2d_66 (Conv2D)           (None, 224, 224, 64)      36928     \n",
            "_________________________________________________________________\n",
            "max_pooling2d_29 (MaxPooling (None, 112, 112, 64)      0         \n",
            "_________________________________________________________________\n",
            "conv2d_67 (Conv2D)           (None, 112, 112, 128)     73856     \n",
            "_________________________________________________________________\n",
            "conv2d_68 (Conv2D)           (None, 112, 112, 128)     147584    \n",
            "_________________________________________________________________\n",
            "max_pooling2d_30 (MaxPooling (None, 56, 56, 128)       0         \n",
            "_________________________________________________________________\n",
            "conv2d_69 (Conv2D)           (None, 56, 56, 256)       295168    \n",
            "_________________________________________________________________\n",
            "conv2d_70 (Conv2D)           (None, 56, 56, 256)       590080    \n",
            "_________________________________________________________________\n",
            "conv2d_71 (Conv2D)           (None, 56, 56, 256)       590080    \n",
            "_________________________________________________________________\n",
            "max_pooling2d_31 (MaxPooling (None, 28, 28, 256)       0         \n",
            "_________________________________________________________________\n",
            "conv2d_72 (Conv2D)           (None, 28, 28, 512)       1180160   \n",
            "_________________________________________________________________\n",
            "conv2d_73 (Conv2D)           (None, 28, 28, 512)       2359808   \n",
            "_________________________________________________________________\n",
            "conv2d_74 (Conv2D)           (None, 28, 28, 512)       2359808   \n",
            "_________________________________________________________________\n",
            "max_pooling2d_32 (MaxPooling (None, 14, 14, 512)       0         \n",
            "_________________________________________________________________\n",
            "conv2d_75 (Conv2D)           (None, 14, 14, 512)       2359808   \n",
            "_________________________________________________________________\n",
            "conv2d_76 (Conv2D)           (None, 14, 14, 512)       2359808   \n",
            "_________________________________________________________________\n",
            "conv2d_77 (Conv2D)           (None, 14, 14, 512)       2359808   \n",
            "_________________________________________________________________\n",
            "max_pooling2d_33 (MaxPooling (None, 7, 7, 512)         0         \n",
            "_________________________________________________________________\n",
            "flatten_11 (Flatten)         (None, 25088)             0         \n",
            "_________________________________________________________________\n",
            "dense_28 (Dense)             (None, 4096)              102764544 \n",
            "_________________________________________________________________\n",
            "dense_29 (Dense)             (None, 4096)              16781312  \n",
            "_________________________________________________________________\n",
            "dense_30 (Dense)             (None, 120)               491640    \n",
            "=================================================================\n",
            "Total params: 134,752,184\n",
            "Trainable params: 134,752,184\n",
            "Non-trainable params: 0\n",
            "_________________________________________________________________\n"
          ],
          "name": "stdout"
        }
      ]
    },
    {
      "cell_type": "code",
      "metadata": {
        "id": "f992P8U63o7u"
      },
      "source": [
        "opt = Adam(lr=0.01)\n",
        "cnn_vgg16.compile(optimizer=opt, loss=keras.losses.categorical_crossentropy, metrics=['accuracy'])"
      ],
      "execution_count": null,
      "outputs": []
    },
    {
      "cell_type": "code",
      "metadata": {
        "colab": {
          "base_uri": "https://localhost:8080/",
          "height": 392
        },
        "id": "xLsyseKw5jTz",
        "outputId": "4770bd90-5cf7-4abc-b8f5-8fbd13e13434"
      },
      "source": [
        "hist_cnn2 = cnn_vgg16.fit(\n",
        "    x=train_generator_vgg,\n",
        "    validation_data=validation_generator_vgg,\n",
        "    epochs=15\n",
        ")"
      ],
      "execution_count": null,
      "outputs": [
        {
          "output_type": "stream",
          "text": [
            "Epoch 1/15\n",
            " 58/516 [==>...........................] - ETA: 4:26 - loss: 959534848.0000 - accuracy: 0.0102"
          ],
          "name": "stdout"
        },
        {
          "output_type": "error",
          "ename": "KeyboardInterrupt",
          "evalue": "ignored",
          "traceback": [
            "\u001b[0;31m---------------------------------------------------------------------------\u001b[0m",
            "\u001b[0;31mKeyboardInterrupt\u001b[0m                         Traceback (most recent call last)",
            "\u001b[0;32m<ipython-input-108-00583824441c>\u001b[0m in \u001b[0;36m<module>\u001b[0;34m()\u001b[0m\n\u001b[1;32m     14\u001b[0m     \u001b[0mx\u001b[0m\u001b[0;34m=\u001b[0m\u001b[0mtrain_generator_vgg\u001b[0m\u001b[0;34m,\u001b[0m\u001b[0;34m\u001b[0m\u001b[0;34m\u001b[0m\u001b[0m\n\u001b[1;32m     15\u001b[0m     \u001b[0mvalidation_data\u001b[0m\u001b[0;34m=\u001b[0m\u001b[0mvalidation_generator_vgg\u001b[0m\u001b[0;34m,\u001b[0m\u001b[0;34m\u001b[0m\u001b[0;34m\u001b[0m\u001b[0m\n\u001b[0;32m---> 16\u001b[0;31m     \u001b[0mepochs\u001b[0m\u001b[0;34m=\u001b[0m\u001b[0;36m15\u001b[0m\u001b[0;34m\u001b[0m\u001b[0;34m\u001b[0m\u001b[0m\n\u001b[0m\u001b[1;32m     17\u001b[0m )\n",
            "\u001b[0;32m/usr/local/lib/python3.6/dist-packages/tensorflow/python/keras/engine/training.py\u001b[0m in \u001b[0;36m_method_wrapper\u001b[0;34m(self, *args, **kwargs)\u001b[0m\n\u001b[1;32m    106\u001b[0m   \u001b[0;32mdef\u001b[0m \u001b[0m_method_wrapper\u001b[0m\u001b[0;34m(\u001b[0m\u001b[0mself\u001b[0m\u001b[0;34m,\u001b[0m \u001b[0;34m*\u001b[0m\u001b[0margs\u001b[0m\u001b[0;34m,\u001b[0m \u001b[0;34m**\u001b[0m\u001b[0mkwargs\u001b[0m\u001b[0;34m)\u001b[0m\u001b[0;34m:\u001b[0m\u001b[0;34m\u001b[0m\u001b[0;34m\u001b[0m\u001b[0m\n\u001b[1;32m    107\u001b[0m     \u001b[0;32mif\u001b[0m \u001b[0;32mnot\u001b[0m \u001b[0mself\u001b[0m\u001b[0;34m.\u001b[0m\u001b[0m_in_multi_worker_mode\u001b[0m\u001b[0;34m(\u001b[0m\u001b[0;34m)\u001b[0m\u001b[0;34m:\u001b[0m  \u001b[0;31m# pylint: disable=protected-access\u001b[0m\u001b[0;34m\u001b[0m\u001b[0;34m\u001b[0m\u001b[0m\n\u001b[0;32m--> 108\u001b[0;31m       \u001b[0;32mreturn\u001b[0m \u001b[0mmethod\u001b[0m\u001b[0;34m(\u001b[0m\u001b[0mself\u001b[0m\u001b[0;34m,\u001b[0m \u001b[0;34m*\u001b[0m\u001b[0margs\u001b[0m\u001b[0;34m,\u001b[0m \u001b[0;34m**\u001b[0m\u001b[0mkwargs\u001b[0m\u001b[0;34m)\u001b[0m\u001b[0;34m\u001b[0m\u001b[0;34m\u001b[0m\u001b[0m\n\u001b[0m\u001b[1;32m    109\u001b[0m \u001b[0;34m\u001b[0m\u001b[0m\n\u001b[1;32m    110\u001b[0m     \u001b[0;31m# Running inside `run_distribute_coordinator` already.\u001b[0m\u001b[0;34m\u001b[0m\u001b[0;34m\u001b[0m\u001b[0;34m\u001b[0m\u001b[0m\n",
            "\u001b[0;32m/usr/local/lib/python3.6/dist-packages/tensorflow/python/keras/engine/training.py\u001b[0m in \u001b[0;36mfit\u001b[0;34m(self, x, y, batch_size, epochs, verbose, callbacks, validation_split, validation_data, shuffle, class_weight, sample_weight, initial_epoch, steps_per_epoch, validation_steps, validation_batch_size, validation_freq, max_queue_size, workers, use_multiprocessing)\u001b[0m\n\u001b[1;32m   1096\u001b[0m                 batch_size=batch_size):\n\u001b[1;32m   1097\u001b[0m               \u001b[0mcallbacks\u001b[0m\u001b[0;34m.\u001b[0m\u001b[0mon_train_batch_begin\u001b[0m\u001b[0;34m(\u001b[0m\u001b[0mstep\u001b[0m\u001b[0;34m)\u001b[0m\u001b[0;34m\u001b[0m\u001b[0;34m\u001b[0m\u001b[0m\n\u001b[0;32m-> 1098\u001b[0;31m               \u001b[0mtmp_logs\u001b[0m \u001b[0;34m=\u001b[0m \u001b[0mtrain_function\u001b[0m\u001b[0;34m(\u001b[0m\u001b[0miterator\u001b[0m\u001b[0;34m)\u001b[0m\u001b[0;34m\u001b[0m\u001b[0;34m\u001b[0m\u001b[0m\n\u001b[0m\u001b[1;32m   1099\u001b[0m               \u001b[0;32mif\u001b[0m \u001b[0mdata_handler\u001b[0m\u001b[0;34m.\u001b[0m\u001b[0mshould_sync\u001b[0m\u001b[0;34m:\u001b[0m\u001b[0;34m\u001b[0m\u001b[0;34m\u001b[0m\u001b[0m\n\u001b[1;32m   1100\u001b[0m                 \u001b[0mcontext\u001b[0m\u001b[0;34m.\u001b[0m\u001b[0masync_wait\u001b[0m\u001b[0;34m(\u001b[0m\u001b[0;34m)\u001b[0m\u001b[0;34m\u001b[0m\u001b[0;34m\u001b[0m\u001b[0m\n",
            "\u001b[0;32m/usr/local/lib/python3.6/dist-packages/tensorflow/python/eager/def_function.py\u001b[0m in \u001b[0;36m__call__\u001b[0;34m(self, *args, **kwds)\u001b[0m\n\u001b[1;32m    778\u001b[0m       \u001b[0;32melse\u001b[0m\u001b[0;34m:\u001b[0m\u001b[0;34m\u001b[0m\u001b[0;34m\u001b[0m\u001b[0m\n\u001b[1;32m    779\u001b[0m         \u001b[0mcompiler\u001b[0m \u001b[0;34m=\u001b[0m \u001b[0;34m\"nonXla\"\u001b[0m\u001b[0;34m\u001b[0m\u001b[0;34m\u001b[0m\u001b[0m\n\u001b[0;32m--> 780\u001b[0;31m         \u001b[0mresult\u001b[0m \u001b[0;34m=\u001b[0m \u001b[0mself\u001b[0m\u001b[0;34m.\u001b[0m\u001b[0m_call\u001b[0m\u001b[0;34m(\u001b[0m\u001b[0;34m*\u001b[0m\u001b[0margs\u001b[0m\u001b[0;34m,\u001b[0m \u001b[0;34m**\u001b[0m\u001b[0mkwds\u001b[0m\u001b[0;34m)\u001b[0m\u001b[0;34m\u001b[0m\u001b[0;34m\u001b[0m\u001b[0m\n\u001b[0m\u001b[1;32m    781\u001b[0m \u001b[0;34m\u001b[0m\u001b[0m\n\u001b[1;32m    782\u001b[0m       \u001b[0mnew_tracing_count\u001b[0m \u001b[0;34m=\u001b[0m \u001b[0mself\u001b[0m\u001b[0;34m.\u001b[0m\u001b[0m_get_tracing_count\u001b[0m\u001b[0;34m(\u001b[0m\u001b[0;34m)\u001b[0m\u001b[0;34m\u001b[0m\u001b[0;34m\u001b[0m\u001b[0m\n",
            "\u001b[0;32m/usr/local/lib/python3.6/dist-packages/tensorflow/python/eager/def_function.py\u001b[0m in \u001b[0;36m_call\u001b[0;34m(self, *args, **kwds)\u001b[0m\n\u001b[1;32m    805\u001b[0m       \u001b[0;31m# In this case we have created variables on the first call, so we run the\u001b[0m\u001b[0;34m\u001b[0m\u001b[0;34m\u001b[0m\u001b[0;34m\u001b[0m\u001b[0m\n\u001b[1;32m    806\u001b[0m       \u001b[0;31m# defunned version which is guaranteed to never create variables.\u001b[0m\u001b[0;34m\u001b[0m\u001b[0;34m\u001b[0m\u001b[0;34m\u001b[0m\u001b[0m\n\u001b[0;32m--> 807\u001b[0;31m       \u001b[0;32mreturn\u001b[0m \u001b[0mself\u001b[0m\u001b[0;34m.\u001b[0m\u001b[0m_stateless_fn\u001b[0m\u001b[0;34m(\u001b[0m\u001b[0;34m*\u001b[0m\u001b[0margs\u001b[0m\u001b[0;34m,\u001b[0m \u001b[0;34m**\u001b[0m\u001b[0mkwds\u001b[0m\u001b[0;34m)\u001b[0m  \u001b[0;31m# pylint: disable=not-callable\u001b[0m\u001b[0;34m\u001b[0m\u001b[0;34m\u001b[0m\u001b[0m\n\u001b[0m\u001b[1;32m    808\u001b[0m     \u001b[0;32melif\u001b[0m \u001b[0mself\u001b[0m\u001b[0;34m.\u001b[0m\u001b[0m_stateful_fn\u001b[0m \u001b[0;32mis\u001b[0m \u001b[0;32mnot\u001b[0m \u001b[0;32mNone\u001b[0m\u001b[0;34m:\u001b[0m\u001b[0;34m\u001b[0m\u001b[0;34m\u001b[0m\u001b[0m\n\u001b[1;32m    809\u001b[0m       \u001b[0;31m# Release the lock early so that multiple threads can perform the call\u001b[0m\u001b[0;34m\u001b[0m\u001b[0;34m\u001b[0m\u001b[0;34m\u001b[0m\u001b[0m\n",
            "\u001b[0;32m/usr/local/lib/python3.6/dist-packages/tensorflow/python/eager/function.py\u001b[0m in \u001b[0;36m__call__\u001b[0;34m(self, *args, **kwargs)\u001b[0m\n\u001b[1;32m   2827\u001b[0m     \u001b[0;32mwith\u001b[0m \u001b[0mself\u001b[0m\u001b[0;34m.\u001b[0m\u001b[0m_lock\u001b[0m\u001b[0;34m:\u001b[0m\u001b[0;34m\u001b[0m\u001b[0;34m\u001b[0m\u001b[0m\n\u001b[1;32m   2828\u001b[0m       \u001b[0mgraph_function\u001b[0m\u001b[0;34m,\u001b[0m \u001b[0margs\u001b[0m\u001b[0;34m,\u001b[0m \u001b[0mkwargs\u001b[0m \u001b[0;34m=\u001b[0m \u001b[0mself\u001b[0m\u001b[0;34m.\u001b[0m\u001b[0m_maybe_define_function\u001b[0m\u001b[0;34m(\u001b[0m\u001b[0margs\u001b[0m\u001b[0;34m,\u001b[0m \u001b[0mkwargs\u001b[0m\u001b[0;34m)\u001b[0m\u001b[0;34m\u001b[0m\u001b[0;34m\u001b[0m\u001b[0m\n\u001b[0;32m-> 2829\u001b[0;31m     \u001b[0;32mreturn\u001b[0m \u001b[0mgraph_function\u001b[0m\u001b[0;34m.\u001b[0m\u001b[0m_filtered_call\u001b[0m\u001b[0;34m(\u001b[0m\u001b[0margs\u001b[0m\u001b[0;34m,\u001b[0m \u001b[0mkwargs\u001b[0m\u001b[0;34m)\u001b[0m  \u001b[0;31m# pylint: disable=protected-access\u001b[0m\u001b[0;34m\u001b[0m\u001b[0;34m\u001b[0m\u001b[0m\n\u001b[0m\u001b[1;32m   2830\u001b[0m \u001b[0;34m\u001b[0m\u001b[0m\n\u001b[1;32m   2831\u001b[0m   \u001b[0;34m@\u001b[0m\u001b[0mproperty\u001b[0m\u001b[0;34m\u001b[0m\u001b[0;34m\u001b[0m\u001b[0m\n",
            "\u001b[0;32m/usr/local/lib/python3.6/dist-packages/tensorflow/python/eager/function.py\u001b[0m in \u001b[0;36m_filtered_call\u001b[0;34m(self, args, kwargs, cancellation_manager)\u001b[0m\n\u001b[1;32m   1846\u001b[0m                            resource_variable_ops.BaseResourceVariable))],\n\u001b[1;32m   1847\u001b[0m         \u001b[0mcaptured_inputs\u001b[0m\u001b[0;34m=\u001b[0m\u001b[0mself\u001b[0m\u001b[0;34m.\u001b[0m\u001b[0mcaptured_inputs\u001b[0m\u001b[0;34m,\u001b[0m\u001b[0;34m\u001b[0m\u001b[0;34m\u001b[0m\u001b[0m\n\u001b[0;32m-> 1848\u001b[0;31m         cancellation_manager=cancellation_manager)\n\u001b[0m\u001b[1;32m   1849\u001b[0m \u001b[0;34m\u001b[0m\u001b[0m\n\u001b[1;32m   1850\u001b[0m   \u001b[0;32mdef\u001b[0m \u001b[0m_call_flat\u001b[0m\u001b[0;34m(\u001b[0m\u001b[0mself\u001b[0m\u001b[0;34m,\u001b[0m \u001b[0margs\u001b[0m\u001b[0;34m,\u001b[0m \u001b[0mcaptured_inputs\u001b[0m\u001b[0;34m,\u001b[0m \u001b[0mcancellation_manager\u001b[0m\u001b[0;34m=\u001b[0m\u001b[0;32mNone\u001b[0m\u001b[0;34m)\u001b[0m\u001b[0;34m:\u001b[0m\u001b[0;34m\u001b[0m\u001b[0;34m\u001b[0m\u001b[0m\n",
            "\u001b[0;32m/usr/local/lib/python3.6/dist-packages/tensorflow/python/eager/function.py\u001b[0m in \u001b[0;36m_call_flat\u001b[0;34m(self, args, captured_inputs, cancellation_manager)\u001b[0m\n\u001b[1;32m   1922\u001b[0m       \u001b[0;31m# No tape is watching; skip to running the function.\u001b[0m\u001b[0;34m\u001b[0m\u001b[0;34m\u001b[0m\u001b[0;34m\u001b[0m\u001b[0m\n\u001b[1;32m   1923\u001b[0m       return self._build_call_outputs(self._inference_function.call(\n\u001b[0;32m-> 1924\u001b[0;31m           ctx, args, cancellation_manager=cancellation_manager))\n\u001b[0m\u001b[1;32m   1925\u001b[0m     forward_backward = self._select_forward_and_backward_functions(\n\u001b[1;32m   1926\u001b[0m         \u001b[0margs\u001b[0m\u001b[0;34m,\u001b[0m\u001b[0;34m\u001b[0m\u001b[0;34m\u001b[0m\u001b[0m\n",
            "\u001b[0;32m/usr/local/lib/python3.6/dist-packages/tensorflow/python/eager/function.py\u001b[0m in \u001b[0;36mcall\u001b[0;34m(self, ctx, args, cancellation_manager)\u001b[0m\n\u001b[1;32m    548\u001b[0m               \u001b[0minputs\u001b[0m\u001b[0;34m=\u001b[0m\u001b[0margs\u001b[0m\u001b[0;34m,\u001b[0m\u001b[0;34m\u001b[0m\u001b[0;34m\u001b[0m\u001b[0m\n\u001b[1;32m    549\u001b[0m               \u001b[0mattrs\u001b[0m\u001b[0;34m=\u001b[0m\u001b[0mattrs\u001b[0m\u001b[0;34m,\u001b[0m\u001b[0;34m\u001b[0m\u001b[0;34m\u001b[0m\u001b[0m\n\u001b[0;32m--> 550\u001b[0;31m               ctx=ctx)\n\u001b[0m\u001b[1;32m    551\u001b[0m         \u001b[0;32melse\u001b[0m\u001b[0;34m:\u001b[0m\u001b[0;34m\u001b[0m\u001b[0;34m\u001b[0m\u001b[0m\n\u001b[1;32m    552\u001b[0m           outputs = execute.execute_with_cancellation(\n",
            "\u001b[0;32m/usr/local/lib/python3.6/dist-packages/tensorflow/python/eager/execute.py\u001b[0m in \u001b[0;36mquick_execute\u001b[0;34m(op_name, num_outputs, inputs, attrs, ctx, name)\u001b[0m\n\u001b[1;32m     58\u001b[0m     \u001b[0mctx\u001b[0m\u001b[0;34m.\u001b[0m\u001b[0mensure_initialized\u001b[0m\u001b[0;34m(\u001b[0m\u001b[0;34m)\u001b[0m\u001b[0;34m\u001b[0m\u001b[0;34m\u001b[0m\u001b[0m\n\u001b[1;32m     59\u001b[0m     tensors = pywrap_tfe.TFE_Py_Execute(ctx._handle, device_name, op_name,\n\u001b[0;32m---> 60\u001b[0;31m                                         inputs, attrs, num_outputs)\n\u001b[0m\u001b[1;32m     61\u001b[0m   \u001b[0;32mexcept\u001b[0m \u001b[0mcore\u001b[0m\u001b[0;34m.\u001b[0m\u001b[0m_NotOkStatusException\u001b[0m \u001b[0;32mas\u001b[0m \u001b[0me\u001b[0m\u001b[0;34m:\u001b[0m\u001b[0;34m\u001b[0m\u001b[0;34m\u001b[0m\u001b[0m\n\u001b[1;32m     62\u001b[0m     \u001b[0;32mif\u001b[0m \u001b[0mname\u001b[0m \u001b[0;32mis\u001b[0m \u001b[0;32mnot\u001b[0m \u001b[0;32mNone\u001b[0m\u001b[0;34m:\u001b[0m\u001b[0;34m\u001b[0m\u001b[0;34m\u001b[0m\u001b[0m\n",
            "\u001b[0;31mKeyboardInterrupt\u001b[0m: "
          ]
        }
      ]
    },
    {
      "cell_type": "markdown",
      "metadata": {
        "id": "krYx5gELwRwW"
      },
      "source": [
        "# VGG16 - Max accuracy : 18.7%"
      ]
    },
    {
      "cell_type": "code",
      "metadata": {
        "id": "LEg040gRi84-"
      },
      "source": [
        "cnn_vgg16_v2_weights = tf.keras.applications.VGG16()"
      ],
      "execution_count": null,
      "outputs": []
    },
    {
      "cell_type": "code",
      "metadata": {
        "colab": {
          "base_uri": "https://localhost:8080/"
        },
        "id": "WL2T9DjLk4Ux",
        "outputId": "10ff91c7-b40a-473b-95bc-e11a266ea687"
      },
      "source": [
        "cnn_vgg16_v2_weights.summary()"
      ],
      "execution_count": null,
      "outputs": [
        {
          "output_type": "stream",
          "text": [
            "Model: \"vgg16\"\n",
            "_________________________________________________________________\n",
            "Layer (type)                 Output Shape              Param #   \n",
            "=================================================================\n",
            "input_9 (InputLayer)         [(None, 224, 224, 3)]     0         \n",
            "_________________________________________________________________\n",
            "block1_conv1 (Conv2D)        (None, 224, 224, 64)      1792      \n",
            "_________________________________________________________________\n",
            "block1_conv2 (Conv2D)        (None, 224, 224, 64)      36928     \n",
            "_________________________________________________________________\n",
            "block1_pool (MaxPooling2D)   (None, 112, 112, 64)      0         \n",
            "_________________________________________________________________\n",
            "block2_conv1 (Conv2D)        (None, 112, 112, 128)     73856     \n",
            "_________________________________________________________________\n",
            "block2_conv2 (Conv2D)        (None, 112, 112, 128)     147584    \n",
            "_________________________________________________________________\n",
            "block2_pool (MaxPooling2D)   (None, 56, 56, 128)       0         \n",
            "_________________________________________________________________\n",
            "block3_conv1 (Conv2D)        (None, 56, 56, 256)       295168    \n",
            "_________________________________________________________________\n",
            "block3_conv2 (Conv2D)        (None, 56, 56, 256)       590080    \n",
            "_________________________________________________________________\n",
            "block3_conv3 (Conv2D)        (None, 56, 56, 256)       590080    \n",
            "_________________________________________________________________\n",
            "block3_pool (MaxPooling2D)   (None, 28, 28, 256)       0         \n",
            "_________________________________________________________________\n",
            "block4_conv1 (Conv2D)        (None, 28, 28, 512)       1180160   \n",
            "_________________________________________________________________\n",
            "block4_conv2 (Conv2D)        (None, 28, 28, 512)       2359808   \n",
            "_________________________________________________________________\n",
            "block4_conv3 (Conv2D)        (None, 28, 28, 512)       2359808   \n",
            "_________________________________________________________________\n",
            "block4_pool (MaxPooling2D)   (None, 14, 14, 512)       0         \n",
            "_________________________________________________________________\n",
            "block5_conv1 (Conv2D)        (None, 14, 14, 512)       2359808   \n",
            "_________________________________________________________________\n",
            "block5_conv2 (Conv2D)        (None, 14, 14, 512)       2359808   \n",
            "_________________________________________________________________\n",
            "block5_conv3 (Conv2D)        (None, 14, 14, 512)       2359808   \n",
            "_________________________________________________________________\n",
            "block5_pool (MaxPooling2D)   (None, 7, 7, 512)         0         \n",
            "_________________________________________________________________\n",
            "flatten (Flatten)            (None, 25088)             0         \n",
            "_________________________________________________________________\n",
            "fc1 (Dense)                  (None, 4096)              102764544 \n",
            "_________________________________________________________________\n",
            "fc2 (Dense)                  (None, 4096)              16781312  \n",
            "_________________________________________________________________\n",
            "predictions (Dense)          (None, 1000)              4097000   \n",
            "=================================================================\n",
            "Total params: 138,357,544\n",
            "Trainable params: 138,357,544\n",
            "Non-trainable params: 0\n",
            "_________________________________________________________________\n"
          ],
          "name": "stdout"
        }
      ]
    },
    {
      "cell_type": "code",
      "metadata": {
        "id": "DKsXzpTlw09C"
      },
      "source": [
        "cnn_vgg16_v2 = Sequential()\n",
        "cnn_vgg16_v2.add(Conv2D(input_shape=(224,224,3),filters=64,kernel_size=(3,3),padding=\"same\", activation=\"relu\"))\n",
        "cnn_vgg16_v2.add(Conv2D(filters=64,kernel_size=(3,3),padding=\"same\", activation=\"relu\"))\n",
        "cnn_vgg16_v2.add(MaxPool2D(pool_size=(2,2),strides=(2,2)))\n",
        "cnn_vgg16_v2.add(Conv2D(filters=128, kernel_size=(3,3), padding=\"same\", activation=\"relu\"))\n",
        "cnn_vgg16_v2.add(Conv2D(filters=128, kernel_size=(3,3), padding=\"same\", activation=\"relu\"))\n",
        "cnn_vgg16_v2.add(MaxPool2D(pool_size=(2,2),strides=(2,2)))\n",
        "cnn_vgg16_v2.add(Conv2D(filters=256, kernel_size=(3,3), padding=\"same\", activation=\"relu\"))\n",
        "cnn_vgg16_v2.add(Conv2D(filters=256, kernel_size=(3,3), padding=\"same\", activation=\"relu\"))\n",
        "cnn_vgg16_v2.add(Conv2D(filters=256, kernel_size=(3,3), padding=\"same\", activation=\"relu\"))\n",
        "cnn_vgg16_v2.add(MaxPool2D(pool_size=(2,2),strides=(2,2)))\n",
        "cnn_vgg16_v2.add(Conv2D(filters=512, kernel_size=(3,3), padding=\"same\", activation=\"relu\"))\n",
        "cnn_vgg16_v2.add(Conv2D(filters=512, kernel_size=(3,3), padding=\"same\", activation=\"relu\"))\n",
        "cnn_vgg16_v2.add(Conv2D(filters=512, kernel_size=(3,3), padding=\"same\", activation=\"relu\"))\n",
        "cnn_vgg16_v2.add(MaxPool2D(pool_size=(2,2),strides=(2,2)))\n",
        "cnn_vgg16_v2.add(Conv2D(filters=512, kernel_size=(3,3), padding=\"same\", activation=\"relu\"))\n",
        "cnn_vgg16_v2.add(Conv2D(filters=512, kernel_size=(3,3), padding=\"same\", activation=\"relu\"))\n",
        "cnn_vgg16_v2.add(Conv2D(filters=512, kernel_size=(3,3), padding=\"same\", activation=\"relu\"))\n",
        "cnn_vgg16_v2.add(MaxPool2D(pool_size=(2,2),strides=(2,2)))\n",
        "\n",
        "cnn_vgg16_v2.add(Flatten())\n",
        "cnn_vgg16_v2.add(Dense(units=4096,activation=\"relu\"))\n",
        "cnn_vgg16_v2.add(Dense(units=4096,activation=\"relu\"))\n",
        "cnn_vgg16_v2.add(Dense(units=1000))"
      ],
      "execution_count": null,
      "outputs": []
    },
    {
      "cell_type": "code",
      "metadata": {
        "id": "7nSgneZMx24t"
      },
      "source": [
        "cnn_vgg16_v2.set_weights(cnn_vgg16_v2_weights.get_weights())"
      ],
      "execution_count": null,
      "outputs": []
    },
    {
      "cell_type": "code",
      "metadata": {
        "colab": {
          "base_uri": "https://localhost:8080/"
        },
        "id": "eGDRUYmO7Uq7",
        "outputId": "02e77e04-e4d6-49b4-9b7f-59e754d6d076"
      },
      "source": [
        "for layer in cnn_vgg16_v2.layers:\n",
        "  layer.trainable = False;\n",
        "\n",
        "for layer in cnn_vgg16_v2.layers:\n",
        "  print(layer.name, \"  \", layer.trainable)"
      ],
      "execution_count": null,
      "outputs": [
        {
          "output_type": "stream",
          "text": [
            "conv2d_78    False\n",
            "conv2d_79    False\n",
            "max_pooling2d_34    False\n",
            "conv2d_80    False\n",
            "conv2d_81    False\n",
            "max_pooling2d_35    False\n",
            "conv2d_82    False\n",
            "conv2d_83    False\n",
            "conv2d_84    False\n",
            "max_pooling2d_36    False\n",
            "conv2d_85    False\n",
            "conv2d_86    False\n",
            "conv2d_87    False\n",
            "max_pooling2d_37    False\n",
            "conv2d_88    False\n",
            "conv2d_89    False\n",
            "conv2d_90    False\n",
            "max_pooling2d_38    False\n",
            "flatten_12    False\n",
            "dense_31    False\n",
            "dense_32    False\n",
            "dense_33    False\n"
          ],
          "name": "stdout"
        }
      ]
    },
    {
      "cell_type": "code",
      "metadata": {
        "id": "B5er4-yUta11"
      },
      "source": [
        "cnn_vgg16_v2.add(Flatten())\n",
        "cnn_vgg16_v2.add(Dense(units=120, activation=\"softmax\"))"
      ],
      "execution_count": null,
      "outputs": []
    },
    {
      "cell_type": "code",
      "metadata": {
        "colab": {
          "base_uri": "https://localhost:8080/"
        },
        "id": "XJImsOfixBTm",
        "outputId": "316406c5-43ad-4a90-d412-5986f0be4b6b"
      },
      "source": [
        "cnn_vgg16_v2.summary()"
      ],
      "execution_count": null,
      "outputs": [
        {
          "output_type": "stream",
          "text": [
            "Model: \"sequential_10\"\n",
            "_________________________________________________________________\n",
            "Layer (type)                 Output Shape              Param #   \n",
            "=================================================================\n",
            "conv2d_78 (Conv2D)           (None, 224, 224, 64)      1792      \n",
            "_________________________________________________________________\n",
            "conv2d_79 (Conv2D)           (None, 224, 224, 64)      36928     \n",
            "_________________________________________________________________\n",
            "max_pooling2d_34 (MaxPooling (None, 112, 112, 64)      0         \n",
            "_________________________________________________________________\n",
            "conv2d_80 (Conv2D)           (None, 112, 112, 128)     73856     \n",
            "_________________________________________________________________\n",
            "conv2d_81 (Conv2D)           (None, 112, 112, 128)     147584    \n",
            "_________________________________________________________________\n",
            "max_pooling2d_35 (MaxPooling (None, 56, 56, 128)       0         \n",
            "_________________________________________________________________\n",
            "conv2d_82 (Conv2D)           (None, 56, 56, 256)       295168    \n",
            "_________________________________________________________________\n",
            "conv2d_83 (Conv2D)           (None, 56, 56, 256)       590080    \n",
            "_________________________________________________________________\n",
            "conv2d_84 (Conv2D)           (None, 56, 56, 256)       590080    \n",
            "_________________________________________________________________\n",
            "max_pooling2d_36 (MaxPooling (None, 28, 28, 256)       0         \n",
            "_________________________________________________________________\n",
            "conv2d_85 (Conv2D)           (None, 28, 28, 512)       1180160   \n",
            "_________________________________________________________________\n",
            "conv2d_86 (Conv2D)           (None, 28, 28, 512)       2359808   \n",
            "_________________________________________________________________\n",
            "conv2d_87 (Conv2D)           (None, 28, 28, 512)       2359808   \n",
            "_________________________________________________________________\n",
            "max_pooling2d_37 (MaxPooling (None, 14, 14, 512)       0         \n",
            "_________________________________________________________________\n",
            "conv2d_88 (Conv2D)           (None, 14, 14, 512)       2359808   \n",
            "_________________________________________________________________\n",
            "conv2d_89 (Conv2D)           (None, 14, 14, 512)       2359808   \n",
            "_________________________________________________________________\n",
            "conv2d_90 (Conv2D)           (None, 14, 14, 512)       2359808   \n",
            "_________________________________________________________________\n",
            "max_pooling2d_38 (MaxPooling (None, 7, 7, 512)         0         \n",
            "_________________________________________________________________\n",
            "flatten_12 (Flatten)         (None, 25088)             0         \n",
            "_________________________________________________________________\n",
            "dense_31 (Dense)             (None, 4096)              102764544 \n",
            "_________________________________________________________________\n",
            "dense_32 (Dense)             (None, 4096)              16781312  \n",
            "_________________________________________________________________\n",
            "dense_33 (Dense)             (None, 1000)              4097000   \n",
            "_________________________________________________________________\n",
            "flatten_13 (Flatten)         (None, 1000)              0         \n",
            "_________________________________________________________________\n",
            "dense_34 (Dense)             (None, 120)               120120    \n",
            "=================================================================\n",
            "Total params: 138,477,664\n",
            "Trainable params: 120,120\n",
            "Non-trainable params: 138,357,544\n",
            "_________________________________________________________________\n"
          ],
          "name": "stdout"
        }
      ]
    },
    {
      "cell_type": "code",
      "metadata": {
        "id": "ZVKPiB5NyOq3"
      },
      "source": [
        "opt = Adam(lr=0.01)\n",
        "cnn_vgg16_v2.compile(loss='categorical_crossentropy', metrics=['accuracy'], optimizer=opt)"
      ],
      "execution_count": null,
      "outputs": []
    },
    {
      "cell_type": "code",
      "metadata": {
        "id": "38Fo2L4qz_gX"
      },
      "source": [
        "BATCH_SIZE_VGG2 = 32\n",
        "EPOCHS_VGG2 = 100"
      ],
      "execution_count": null,
      "outputs": []
    },
    {
      "cell_type": "code",
      "metadata": {
        "colab": {
          "base_uri": "https://localhost:8080/"
        },
        "id": "rl-E5Mxt0KR5",
        "outputId": "d082a20e-4106-43a9-9ff3-221152e841ad"
      },
      "source": [
        "train_generator_vgg2 = train_datagen.flow_from_directory(DATA_SET_DIR,\n",
        "                                                    target_size=(IMAGE_SIZE, IMAGE_SIZE),\n",
        "                                                    batch_size=BATCH_SIZE_VGG2,\n",
        "                                                    class_mode='categorical',\n",
        "                                                    subset='training')\n",
        "\n",
        "validation_generator_vgg2 = test_datagen.flow_from_directory(DATA_SET_DIR,\n",
        "                                                        target_size=(IMAGE_SIZE, IMAGE_SIZE),\n",
        "                                                        batch_size=BATCH_SIZE_VGG2,\n",
        "                                                        class_mode='categorical',\n",
        "                                                        subset='validation')"
      ],
      "execution_count": null,
      "outputs": [
        {
          "output_type": "stream",
          "text": [
            "Found 16508 images belonging to 120 classes.\n",
            "Found 4072 images belonging to 120 classes.\n"
          ],
          "name": "stdout"
        }
      ]
    },
    {
      "cell_type": "code",
      "metadata": {
        "colab": {
          "base_uri": "https://localhost:8080/"
        },
        "id": "6Rj7rs-FD5yh",
        "outputId": "e93a47f3-7361-4a7c-9bd8-d16f314e9a4d"
      },
      "source": [
        "cnn_vgg16_v2.summary()"
      ],
      "execution_count": null,
      "outputs": [
        {
          "output_type": "stream",
          "text": [
            "Model: \"sequential_10\"\n",
            "_________________________________________________________________\n",
            "Layer (type)                 Output Shape              Param #   \n",
            "=================================================================\n",
            "conv2d_78 (Conv2D)           (None, 224, 224, 64)      1792      \n",
            "_________________________________________________________________\n",
            "conv2d_79 (Conv2D)           (None, 224, 224, 64)      36928     \n",
            "_________________________________________________________________\n",
            "max_pooling2d_34 (MaxPooling (None, 112, 112, 64)      0         \n",
            "_________________________________________________________________\n",
            "conv2d_80 (Conv2D)           (None, 112, 112, 128)     73856     \n",
            "_________________________________________________________________\n",
            "conv2d_81 (Conv2D)           (None, 112, 112, 128)     147584    \n",
            "_________________________________________________________________\n",
            "max_pooling2d_35 (MaxPooling (None, 56, 56, 128)       0         \n",
            "_________________________________________________________________\n",
            "conv2d_82 (Conv2D)           (None, 56, 56, 256)       295168    \n",
            "_________________________________________________________________\n",
            "conv2d_83 (Conv2D)           (None, 56, 56, 256)       590080    \n",
            "_________________________________________________________________\n",
            "conv2d_84 (Conv2D)           (None, 56, 56, 256)       590080    \n",
            "_________________________________________________________________\n",
            "max_pooling2d_36 (MaxPooling (None, 28, 28, 256)       0         \n",
            "_________________________________________________________________\n",
            "conv2d_85 (Conv2D)           (None, 28, 28, 512)       1180160   \n",
            "_________________________________________________________________\n",
            "conv2d_86 (Conv2D)           (None, 28, 28, 512)       2359808   \n",
            "_________________________________________________________________\n",
            "conv2d_87 (Conv2D)           (None, 28, 28, 512)       2359808   \n",
            "_________________________________________________________________\n",
            "max_pooling2d_37 (MaxPooling (None, 14, 14, 512)       0         \n",
            "_________________________________________________________________\n",
            "conv2d_88 (Conv2D)           (None, 14, 14, 512)       2359808   \n",
            "_________________________________________________________________\n",
            "conv2d_89 (Conv2D)           (None, 14, 14, 512)       2359808   \n",
            "_________________________________________________________________\n",
            "conv2d_90 (Conv2D)           (None, 14, 14, 512)       2359808   \n",
            "_________________________________________________________________\n",
            "max_pooling2d_38 (MaxPooling (None, 7, 7, 512)         0         \n",
            "_________________________________________________________________\n",
            "flatten_12 (Flatten)         (None, 25088)             0         \n",
            "_________________________________________________________________\n",
            "dense_31 (Dense)             (None, 4096)              102764544 \n",
            "_________________________________________________________________\n",
            "dense_32 (Dense)             (None, 4096)              16781312  \n",
            "_________________________________________________________________\n",
            "dense_33 (Dense)             (None, 1000)              4097000   \n",
            "_________________________________________________________________\n",
            "flatten_13 (Flatten)         (None, 1000)              0         \n",
            "_________________________________________________________________\n",
            "dense_34 (Dense)             (None, 120)               120120    \n",
            "=================================================================\n",
            "Total params: 138,477,664\n",
            "Trainable params: 120,120\n",
            "Non-trainable params: 138,357,544\n",
            "_________________________________________________________________\n"
          ],
          "name": "stdout"
        }
      ]
    },
    {
      "cell_type": "code",
      "metadata": {
        "colab": {
          "base_uri": "https://localhost:8080/"
        },
        "id": "qSDbfjIiyZbj",
        "outputId": "d7a10c71-2a16-4808-87c6-c07b8a404168"
      },
      "source": [
        "cnn_vgg16_v2.fit(\n",
        "    x=train_generator_vgg2,\n",
        "    validation_data=validation_generator_vgg2,\n",
        "    epochs=15\n",
        ")"
      ],
      "execution_count": null,
      "outputs": [
        {
          "output_type": "stream",
          "text": [
            "Epoch 1/15\n",
            "516/516 [==============================] - 260s 504ms/step - loss: 10.7116 - accuracy: 0.0463 - val_loss: 10.3778 - val_accuracy: 0.0639\n",
            "Epoch 2/15\n",
            "516/516 [==============================] - 251s 486ms/step - loss: 9.7109 - accuracy: 0.0769 - val_loss: 9.0593 - val_accuracy: 0.0943\n",
            "Epoch 3/15\n",
            "516/516 [==============================] - 253s 490ms/step - loss: 9.6354 - accuracy: 0.0916 - val_loss: 10.2732 - val_accuracy: 0.0904\n",
            "Epoch 4/15\n",
            "516/516 [==============================] - 254s 492ms/step - loss: 9.5964 - accuracy: 0.0999 - val_loss: 8.4209 - val_accuracy: 0.1223\n",
            "Epoch 5/15\n",
            "516/516 [==============================] - 253s 491ms/step - loss: 9.4653 - accuracy: 0.1118 - val_loss: 11.2934 - val_accuracy: 0.0887\n",
            "Epoch 6/15\n",
            "516/516 [==============================] - 252s 487ms/step - loss: 9.9753 - accuracy: 0.1149 - val_loss: 10.5585 - val_accuracy: 0.1248\n",
            "Epoch 7/15\n",
            "516/516 [==============================] - 252s 488ms/step - loss: 9.8125 - accuracy: 0.1257 - val_loss: 10.9051 - val_accuracy: 0.1262\n",
            "Epoch 8/15\n",
            "516/516 [==============================] - 252s 488ms/step - loss: 9.5488 - accuracy: 0.1293 - val_loss: 10.6116 - val_accuracy: 0.1179\n",
            "Epoch 9/15\n",
            "516/516 [==============================] - 250s 485ms/step - loss: 9.8547 - accuracy: 0.1270 - val_loss: 10.5415 - val_accuracy: 0.1211\n",
            "Epoch 10/15\n",
            "516/516 [==============================] - 252s 488ms/step - loss: 9.6629 - accuracy: 0.1381 - val_loss: 9.2335 - val_accuracy: 0.1542\n",
            "Epoch 11/15\n",
            "516/516 [==============================] - 253s 490ms/step - loss: 9.7992 - accuracy: 0.1393 - val_loss: 9.1985 - val_accuracy: 0.1415\n",
            "Epoch 12/15\n",
            "516/516 [==============================] - 254s 491ms/step - loss: 9.7711 - accuracy: 0.1409 - val_loss: 10.8331 - val_accuracy: 0.1302\n",
            "Epoch 13/15\n",
            "516/516 [==============================] - 251s 487ms/step - loss: 9.9510 - accuracy: 0.1407 - val_loss: 9.4882 - val_accuracy: 0.1434\n",
            "Epoch 14/15\n",
            "516/516 [==============================] - 250s 485ms/step - loss: 9.7749 - accuracy: 0.1454 - val_loss: 10.5389 - val_accuracy: 0.1419\n",
            "Epoch 15/15\n",
            "516/516 [==============================] - 250s 485ms/step - loss: 9.7364 - accuracy: 0.1496 - val_loss: 10.6181 - val_accuracy: 0.1346\n"
          ],
          "name": "stdout"
        },
        {
          "output_type": "execute_result",
          "data": {
            "text/plain": [
              "<tensorflow.python.keras.callbacks.History at 0x7f7621b8e710>"
            ]
          },
          "metadata": {
            "tags": []
          },
          "execution_count": 120
        }
      ]
    },
    {
      "cell_type": "code",
      "metadata": {
        "id": "BkW4u1JaMzOS"
      },
      "source": [
        "opt = Adam(lr=0.01)\n",
        "cnn_vgg16_v2.compile(loss='categorical_crossentropy', metrics=['accuracy'], optimizer=opt)"
      ],
      "execution_count": null,
      "outputs": []
    },
    {
      "cell_type": "code",
      "metadata": {
        "colab": {
          "base_uri": "https://localhost:8080/"
        },
        "id": "btxpV_UPM8W-",
        "outputId": "4cf73c93-b7ae-4789-e892-c4c8b206e874"
      },
      "source": [
        "cnn_vgg16_v2.fit(\n",
        "    x=train_generator_vgg2,\n",
        "    validation_data=validation_generator_vgg2,\n",
        "    epochs=10\n",
        ")"
      ],
      "execution_count": null,
      "outputs": [
        {
          "output_type": "stream",
          "text": [
            "Epoch 1/10\n",
            "516/516 [==============================] - 252s 488ms/step - loss: 11.4189 - accuracy: 0.1755 - val_loss: 12.0354 - val_accuracy: 0.1518\n",
            "Epoch 2/10\n",
            "516/516 [==============================] - 250s 485ms/step - loss: 10.6272 - accuracy: 0.1792 - val_loss: 11.8885 - val_accuracy: 0.1761\n",
            "Epoch 3/10\n",
            "516/516 [==============================] - 250s 485ms/step - loss: 10.5586 - accuracy: 0.1812 - val_loss: 13.0049 - val_accuracy: 0.1434\n",
            "Epoch 4/10\n",
            "516/516 [==============================] - 259s 502ms/step - loss: 10.5975 - accuracy: 0.1809 - val_loss: 11.5768 - val_accuracy: 0.1663\n",
            "Epoch 5/10\n",
            "516/516 [==============================] - 263s 510ms/step - loss: 10.3361 - accuracy: 0.1825 - val_loss: 11.2762 - val_accuracy: 0.1871\n",
            "Epoch 6/10\n",
            "516/516 [==============================] - 261s 506ms/step - loss: 10.5471 - accuracy: 0.1805 - val_loss: 11.9485 - val_accuracy: 0.1555\n",
            "Epoch 7/10\n",
            "516/516 [==============================] - 268s 519ms/step - loss: 10.3173 - accuracy: 0.1815 - val_loss: 12.3002 - val_accuracy: 0.1358\n",
            "Epoch 8/10\n",
            "516/516 [==============================] - 266s 516ms/step - loss: 10.0809 - accuracy: 0.1827 - val_loss: 10.7398 - val_accuracy: 0.1589\n",
            "Epoch 9/10\n",
            "516/516 [==============================] - 274s 531ms/step - loss: 10.2575 - accuracy: 0.1846 - val_loss: 11.3633 - val_accuracy: 0.1547\n",
            "Epoch 10/10\n",
            "516/516 [==============================] - 275s 533ms/step - loss: 10.4603 - accuracy: 0.1783 - val_loss: 11.5989 - val_accuracy: 0.1621\n"
          ],
          "name": "stdout"
        },
        {
          "output_type": "execute_result",
          "data": {
            "text/plain": [
              "<tensorflow.python.keras.callbacks.History at 0x7f76175c1400>"
            ]
          },
          "metadata": {
            "tags": []
          },
          "execution_count": 124
        }
      ]
    },
    {
      "cell_type": "markdown",
      "metadata": {
        "id": "VIvnLPnRkKuu"
      },
      "source": [
        "# **DenseNet201 : 82.7% Accuracy**"
      ]
    },
    {
      "cell_type": "code",
      "metadata": {
        "id": "ha-K2WPC9joO"
      },
      "source": [
        "def conv_block(x):\n",
        "  bn_axis = 3\n",
        "  growth_rate = 32\n",
        "  x1 = layers.BatchNormalization(axis=bn_axis, epsilon=1.001e-5)(x)\n",
        "  x1 = layers.Activation('relu')(x1)\n",
        "  x1 = layers.Conv2D(4 * growth_rate, 1, use_bias=False)(x1)\n",
        "  x1 = layers.BatchNormalization(axis=bn_axis, epsilon=1.001e-5)(x1)\n",
        "  x1 = layers.Activation('relu')(x1)\n",
        "  x1 = layers.Conv2D(growth_rate, 3, padding='same', use_bias=False)(x1)\n",
        "  x = layers.Concatenate(axis=bn_axis)([x, x1])\n",
        "  return x"
      ],
      "execution_count": null,
      "outputs": []
    },
    {
      "cell_type": "code",
      "metadata": {
        "id": "Sq_Wsv8g9_l2"
      },
      "source": [
        "def dense_block(x, blocks):\n",
        "  for i in range(blocks):\n",
        "    x = conv_block(x)\n",
        "  return x"
      ],
      "execution_count": null,
      "outputs": []
    },
    {
      "cell_type": "code",
      "metadata": {
        "id": "VkgFVyaXAAxo"
      },
      "source": [
        "def transition_block(x, reduction):\n",
        "  bn_axis = 3\n",
        "  x = layers.BatchNormalization(axis=bn_axis, epsilon=1.001e-5)(x)\n",
        "  x = layers.Activation('relu')(x)\n",
        "  x = layers.Conv2D(int(backend.int_shape(x)[bn_axis] * reduction),1,use_bias=False,)(x)\n",
        "  x = layers.AveragePooling2D(2, strides=2)(x)\n",
        "  return x"
      ],
      "execution_count": null,
      "outputs": []
    },
    {
      "cell_type": "code",
      "metadata": {
        "id": "fdCo-9aNEx4y"
      },
      "source": [
        "img_input = layers.Input(shape=(224,224,3))\n",
        "\n",
        "bn_axis = 3\n",
        "x = layers.ZeroPadding2D(padding=((3, 3), (3, 3)))(img_input)\n",
        "x = layers.Conv2D(64, 7, strides=2, use_bias=False)(x)\n",
        "x = layers.BatchNormalization(axis=bn_axis, epsilon=1.001e-5)(x)\n",
        "x = layers.Activation('relu')(x)\n",
        "x = layers.ZeroPadding2D(padding=((1, 1), (1, 1)))(x)\n",
        "x = layers.MaxPooling2D(3, strides=2)(x)\n",
        "\n",
        "x = dense_block(x, 6)\n",
        "x = transition_block(x, 0.5)\n",
        "x = dense_block(x, 12)\n",
        "x = transition_block(x, 0.5)\n",
        "x = dense_block(x, 48)\n",
        "x = transition_block(x, 0.5)\n",
        "x = dense_block(x, 32)\n",
        "\n",
        "x = layers.BatchNormalization(axis=bn_axis, epsilon=1.001e-5)(x)\n",
        "x = layers.Activation('relu')(x)\n",
        "\n",
        "x = layers.GlobalAveragePooling2D(name='avg_pool')(x)\n",
        "\n",
        "x = layers.Dense(1000, activation='softmax')(x)\n",
        "\n",
        "cnn_densenet201 = training.Model(img_input, x, name='densenet201')"
      ],
      "execution_count": null,
      "outputs": []
    },
    {
      "cell_type": "code",
      "metadata": {
        "id": "Nhvkm3HPNvSc",
        "colab": {
          "base_uri": "https://localhost:8080/"
        },
        "outputId": "c429d9cc-00dd-493a-ed9f-55503d0acd62"
      },
      "source": [
        "temp = tf.keras.applications.DenseNet201()"
      ],
      "execution_count": null,
      "outputs": [
        {
          "output_type": "stream",
          "text": [
            "Downloading data from https://storage.googleapis.com/tensorflow/keras-applications/densenet/densenet201_weights_tf_dim_ordering_tf_kernels.h5\n",
            "82526208/82524592 [==============================] - 1s 0us/step\n"
          ],
          "name": "stdout"
        }
      ]
    },
    {
      "cell_type": "code",
      "metadata": {
        "id": "-nxKo4jtG4UK"
      },
      "source": [
        "cnn_densenet201.set_weights(temp.get_weights())"
      ],
      "execution_count": null,
      "outputs": []
    },
    {
      "cell_type": "code",
      "metadata": {
        "id": "V1IItG6YK6Sz"
      },
      "source": [
        "for layer in cnn_densenet201.layers:\n",
        "  layer.trainable = False"
      ],
      "execution_count": null,
      "outputs": []
    },
    {
      "cell_type": "code",
      "metadata": {
        "id": "j0EXp1Q3LvC_"
      },
      "source": [
        "my_cnn_densenet201 = Sequential()\n",
        "my_cnn_densenet201.add(cnn_densenet201)\n",
        "for layer in my_cnn_densenet201.layers:\n",
        "  layer.trainable = False\n",
        "my_cnn_densenet201.add(Flatten())\n",
        "my_cnn_densenet201.add(Dense(units=120, activation=\"softmax\"))"
      ],
      "execution_count": null,
      "outputs": []
    },
    {
      "cell_type": "code",
      "metadata": {
        "colab": {
          "base_uri": "https://localhost:8080/"
        },
        "id": "VSbyvAmcL8TI",
        "outputId": "0d7b0870-1175-4dd9-cf70-52200727b5b6"
      },
      "source": [
        "my_cnn_densenet201.summary()"
      ],
      "execution_count": null,
      "outputs": [
        {
          "output_type": "stream",
          "text": [
            "Model: \"sequential_7\"\n",
            "_________________________________________________________________\n",
            "Layer (type)                 Output Shape              Param #   \n",
            "=================================================================\n",
            "densenet201 (Functional)     (None, 1000)              20242984  \n",
            "_________________________________________________________________\n",
            "flatten_7 (Flatten)          (None, 1000)              0         \n",
            "_________________________________________________________________\n",
            "dense_14 (Dense)             (None, 120)               120120    \n",
            "=================================================================\n",
            "Total params: 20,363,104\n",
            "Trainable params: 120,120\n",
            "Non-trainable params: 20,242,984\n",
            "_________________________________________________________________\n"
          ],
          "name": "stdout"
        }
      ]
    },
    {
      "cell_type": "code",
      "metadata": {
        "colab": {
          "base_uri": "https://localhost:8080/"
        },
        "id": "OAO7o1LsLad8",
        "outputId": "a8115747-3e04-4a79-a304-e6fb56eb18c5"
      },
      "source": [
        "for layer in my_cnn_densenet201.layers:\n",
        "  print(layer.trainable)"
      ],
      "execution_count": null,
      "outputs": [
        {
          "output_type": "stream",
          "text": [
            "False\n",
            "True\n",
            "True\n"
          ],
          "name": "stdout"
        }
      ]
    },
    {
      "cell_type": "code",
      "metadata": {
        "id": "TceaKyPROIPo"
      },
      "source": [
        "opt_densenet = Adam(lr=0.01)\n",
        "my_cnn_densenet201.compile(loss='categorical_crossentropy', metrics=['accuracy'], optimizer=opt_densenet)"
      ],
      "execution_count": null,
      "outputs": []
    },
    {
      "cell_type": "code",
      "metadata": {
        "colab": {
          "base_uri": "https://localhost:8080/"
        },
        "id": "A7_vaoRK7n8_",
        "outputId": "cf52702c-ee0f-43ff-8e32-fd2c0b952cc3"
      },
      "source": [
        "history_cnn_desnet201 = my_cnn_densenet201.fit(\n",
        "    x=train_generator,\n",
        "    validation_data=validation_generator,\n",
        "    epochs=10\n",
        ")"
      ],
      "execution_count": null,
      "outputs": [
        {
          "output_type": "stream",
          "text": [
            "Epoch 1/10\n",
            "129/129 [==============================] - 4701s 36s/step - loss: 4.1040 - accuracy: 0.5628 - val_loss: 3.3988 - val_accuracy: 0.7807\n",
            "Epoch 2/10\n",
            "129/129 [==============================] - 264s 2s/step - loss: 2.8835 - accuracy: 0.7667 - val_loss: 2.3160 - val_accuracy: 0.8075\n",
            "Epoch 3/10\n",
            "129/129 [==============================] - 270s 2s/step - loss: 1.9982 - accuracy: 0.7870 - val_loss: 1.6042 - val_accuracy: 0.8185\n",
            "Epoch 4/10\n",
            "129/129 [==============================] - 266s 2s/step - loss: 1.4508 - accuracy: 0.7991 - val_loss: 1.2131 - val_accuracy: 0.8237\n",
            "Epoch 5/10\n",
            "129/129 [==============================] - 264s 2s/step - loss: 1.1661 - accuracy: 0.7991 - val_loss: 1.0100 - val_accuracy: 0.8212\n",
            "Epoch 6/10\n",
            "129/129 [==============================] - 262s 2s/step - loss: 1.0093 - accuracy: 0.8002 - val_loss: 0.9001 - val_accuracy: 0.8232\n",
            "Epoch 7/10\n",
            "129/129 [==============================] - 263s 2s/step - loss: 0.9229 - accuracy: 0.7994 - val_loss: 0.8351 - val_accuracy: 0.8242\n",
            "Epoch 8/10\n",
            "129/129 [==============================] - 267s 2s/step - loss: 0.8539 - accuracy: 0.8026 - val_loss: 0.7941 - val_accuracy: 0.8261\n",
            "Epoch 9/10\n",
            "129/129 [==============================] - 269s 2s/step - loss: 0.8177 - accuracy: 0.8026 - val_loss: 0.7676 - val_accuracy: 0.8254\n",
            "Epoch 10/10\n",
            "129/129 [==============================] - 265s 2s/step - loss: 0.7819 - accuracy: 0.8075 - val_loss: 0.7488 - val_accuracy: 0.8271\n"
          ],
          "name": "stdout"
        }
      ]
    },
    {
      "cell_type": "code",
      "metadata": {
        "colab": {
          "base_uri": "https://localhost:8080/",
          "height": 265
        },
        "id": "p3W5NXXGXq7d",
        "outputId": "8b9f62a4-7013-490d-c6b9-742081a8ed36"
      },
      "source": [
        "history_cnn_desnet201_df = pd.DataFrame(history_cnn_desnet201.history)\n",
        "history_cnn_desnet201_df.loc[:, ['loss', 'val_loss']].plot();"
      ],
      "execution_count": null,
      "outputs": [
        {
          "output_type": "display_data",
          "data": {
            "image/png": "[encoded data removed]",
            "text/plain": [
              "<Figure size 432x288 with 1 Axes>"
            ]
          },
          "metadata": {
            "tags": [],
            "needs_background": "light"
          }
        }
      ]
    }
  ]
}